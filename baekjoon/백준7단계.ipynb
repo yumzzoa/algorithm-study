{
 "cells": [
  {
   "cell_type": "code",
   "execution_count": null,
   "metadata": {},
   "outputs": [],
   "source": [
    "#2738\n",
    "\n",
    "n, m = map(int, input().split())\n",
    "\n",
    "A = []\n",
    "B = []\n",
    "\n",
    "for i in range(n):\n",
    "    row = list(map(int, input().split()))\n",
    "    A.append(row)\n",
    "\n",
    "for i in range(n):\n",
    "    row = list(map(int, input().split()))\n",
    "    B.append(row)\n",
    "\n",
    "for i in range(n):\n",
    "    for j in range(m):\n",
    "        print(A[i][j] + B[i][j], end = \" \")\n",
    "\n",
    "\n",
    "\n",
    "\n"
   ]
  },
  {
   "cell_type": "code",
   "execution_count": null,
   "metadata": {},
   "outputs": [],
   "source": [
    "#2566\n",
    "\n",
    "max_num = 0\n",
    "\n",
    "for i in range(1, 10):\n",
    "    row = map(int, input().split())\n",
    "    if max(row) > max_num:\n",
    "        max_num = max(row)\n",
    "        x = i\n",
    "        y = row.index(max_num) + 1\n",
    "\n",
    "print(max_num)\n",
    "print(x, y)"
   ]
  }
 ],
 "metadata": {
  "language_info": {
   "name": "python"
  },
  "orig_nbformat": 4
 },
 "nbformat": 4,
 "nbformat_minor": 2
}
