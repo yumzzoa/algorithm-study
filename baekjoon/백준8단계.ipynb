{
 "cells": [
  {
   "cell_type": "code",
   "execution_count": null,
   "metadata": {},
   "outputs": [],
   "source": [
    "#2745\n",
    "\n",
    "a, b = input().split()\n",
    "\n",
    "print(int(a, int(b)))"
   ]
  },
  {
   "cell_type": "markdown",
   "metadata": {},
   "source": []
  },
  {
   "cell_type": "code",
   "execution_count": null,
   "metadata": {},
   "outputs": [],
   "source": [
    "#11005 진법변환 2\n",
    "\n",
    "n, b = map(int, input().split())\n",
    "\n",
    "p = []\n",
    "\n",
    "while n != 0:\n",
    "    p += (p.append(n%b))\n",
    "    n = n // b\n",
    "\n",
    "print(p[::-1])\n"
   ]
  },
  {
   "cell_type": "code",
   "execution_count": null,
   "metadata": {},
   "outputs": [],
   "source": [
    "num, step = map(int, input().split())\n",
    "123\n",
    "# a = num % 10 \n",
    "# b = (num // 10) % 10\n",
    "# c = ((num // 10) // 10) % 10\n",
    "box = []\n",
    "alpha = {10:'A', 11:'B',12:'C', 13:'D',14:'E',15:'F',16:'G',17:'H',18:'I', 19:'J',20:'K',21:'L',22:'M',23:'N',24:'O',25:'P',26:'Q',27:'R',28:'S',29:'T',30:'U',31:'V',32:'W',33:'X',34:'Y',35:'Z'}\n",
    "while True:\n",
    "    if num == 0:\n",
    "        break\n",
    "\n",
    "    remain = ''\n",
    "    if (num % step) >= 10:\n",
    "        remain = alpha[num % step]\n",
    "    else:\n",
    "        remain = str(num % step)\n",
    "\n",
    "    box.append(remain)\n",
    "    num = num // step\n",
    "\n",
    "box.reverse()\n",
    "print(box)"
   ]
  },
  {
   "cell_type": "code",
   "execution_count": null,
   "metadata": {},
   "outputs": [],
   "source": [
    "num, step = map(int, input().split())\n",
    "\n",
    "box = []\n",
    "alpha = '0123456789ABCDEFGHIJKLMNOPQRSTUVWXYZ'\n",
    "while True:\n",
    "    if num == 0:\n",
    "        break\n",
    "    box.append(alpha[num % step])\n",
    "    num = num // step\n",
    "\n",
    "box.reverse()\n",
    "print(\"\".join(box))"
   ]
  },
  {
   "cell_type": "code",
   "execution_count": 6,
   "metadata": {},
   "outputs": [
    {
     "name": "stdout",
     "output_type": "stream",
     "text": [
      "4 2 0 4 1 0 0 0 7 1 1 4 "
     ]
    }
   ],
   "source": [
    "#2720 세탁소 사장 동혁\n",
    "\n",
    "T = int(input())\n",
    "coins = [25, 10, 5, 1]\n",
    "\n",
    "for i in range(T):\n",
    "    money = int(input())\n",
    "    for j in coins:\n",
    "        print(money // j, end = ' ')\n",
    "        money = money % j \n"
   ]
  },
  {
   "cell_type": "code",
   "execution_count": null,
   "metadata": {},
   "outputs": [],
   "source": []
  }
 ],
 "metadata": {
  "kernelspec": {
   "display_name": "Python 3",
   "language": "python",
   "name": "python3"
  },
  "language_info": {
   "codemirror_mode": {
    "name": "ipython",
    "version": 3
   },
   "file_extension": ".py",
   "mimetype": "text/x-python",
   "name": "python",
   "nbconvert_exporter": "python",
   "pygments_lexer": "ipython3",
   "version": "3.11.4"
  }
 },
 "nbformat": 4,
 "nbformat_minor": 2
}
