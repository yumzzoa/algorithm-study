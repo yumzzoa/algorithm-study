{
 "cells": [
  {
   "cell_type": "code",
   "execution_count": 5,
   "metadata": {},
   "outputs": [
    {
     "name": "stdout",
     "output_type": "stream",
     "text": [
      "==\n"
     ]
    }
   ],
   "source": [
    "#1330\n",
    "\n",
    "a, b = map(int, input().split())\n",
    "\n",
    "if a > b:\n",
    "    print(\">\")\n",
    "elif a < b:\n",
    "    print(\"<\")\n",
    "else:\n",
    "    print(\"==\")"
   ]
  },
  {
   "cell_type": "code",
   "execution_count": 6,
   "metadata": {},
   "outputs": [
    {
     "name": "stdout",
     "output_type": "stream",
     "text": [
      "A\n"
     ]
    }
   ],
   "source": [
    "#9498\n",
    "\n",
    "score = int(input())\n",
    "\n",
    "if 89 < score <= 100:\n",
    "    print(\"A\")\n",
    "elif 79 < score < 90:\n",
    "    print(\"B\")\n",
    "elif 69 < score < 80:\n",
    "    print(\"C\")\n",
    "elif 59 < score < 70:\n",
    "    print(\"D\")\n",
    "else:\n",
    "    print(\"F\")"
   ]
  },
  {
   "cell_type": "code",
   "execution_count": 8,
   "metadata": {},
   "outputs": [
    {
     "name": "stdout",
     "output_type": "stream",
     "text": [
      "0\n"
     ]
    }
   ],
   "source": [
    "#2753\n",
    "\n",
    "a = int(input())\n",
    "\n",
    "if (a % 4 == 0) and (a % 100 != 100) or (a % 400 == 0):\n",
    "    print(\"1\")\n",
    "else: \n",
    "    print(\"0\")"
   ]
  },
  {
   "cell_type": "code",
   "execution_count": 10,
   "metadata": {},
   "outputs": [
    {
     "name": "stdout",
     "output_type": "stream",
     "text": [
      "4\n"
     ]
    }
   ],
   "source": [
    "#14681\n",
    "\n",
    "a = int(input())\n",
    "b = int(input())\n",
    "\n",
    "if a > 0 and b > 0:\n",
    "    print(\"1\")\n",
    "elif a < 0 and b > 0:\n",
    "    print(\"2\")\n",
    "elif a < 0 and b < 0:\n",
    "    print(\"3\")\n",
    "else:\n",
    "    print(\"4\")"
   ]
  },
  {
   "cell_type": "code",
   "execution_count": 7,
   "metadata": {},
   "outputs": [
    {
     "name": "stdout",
     "output_type": "stream",
     "text": [
      "600\n"
     ]
    }
   ],
   "source": [
    "a, b, c = map(int,input().split())\n",
    "\n",
    "if a == b == c:\n",
    "    print(10000 + a * 1000)\n",
    "elif a == b or a == c:\n",
    "    print(1000 + a * 100)\n",
    "elif b == c:\n",
    "    print(1000 + b * 100)\n",
    "else:\n",
    "    print(max(a, b, c)*100)"
   ]
  },
  {
   "cell_type": "code",
   "execution_count": null,
   "metadata": {},
   "outputs": [],
   "source": []
  }
 ],
 "metadata": {
  "kernelspec": {
   "display_name": "Python 3",
   "language": "python",
   "name": "python3"
  },
  "language_info": {
   "codemirror_mode": {
    "name": "ipython",
    "version": 3
   },
   "file_extension": ".py",
   "mimetype": "text/x-python",
   "name": "python",
   "nbconvert_exporter": "python",
   "pygments_lexer": "ipython3",
   "version": "3.11.4"
  },
  "orig_nbformat": 4
 },
 "nbformat": 4,
 "nbformat_minor": 2
}
