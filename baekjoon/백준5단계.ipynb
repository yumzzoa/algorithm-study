{
 "cells": [
  {
   "cell_type": "code",
   "execution_count": 10,
   "metadata": {},
   "outputs": [
    {
     "name": "stdout",
     "output_type": "stream",
     "text": [
      "r\n",
      "Sprout\n"
     ]
    }
   ],
   "source": [
    "#27866\n",
    "\n",
    "a = (input())\n",
    "b = int(input())\n",
    "\n",
    "print(a[b-1])\n",
    "\n"
   ]
  },
  {
   "cell_type": "code",
   "execution_count": 11,
   "metadata": {},
   "outputs": [
    {
     "name": "stdout",
     "output_type": "stream",
     "text": [
      "8\n"
     ]
    }
   ],
   "source": [
    "#2743\n",
    "\n",
    "a = input()\n",
    "\n",
    "print(len(a))"
   ]
  },
  {
   "cell_type": "code",
   "execution_count": 12,
   "metadata": {},
   "outputs": [
    {
     "name": "stdout",
     "output_type": "stream",
     "text": [
      "AE\n",
      "OO\n",
      "AB\n"
     ]
    }
   ],
   "source": [
    "#9086\n",
    "\n",
    "T = int(input())\n",
    "\n",
    "for i in range(T):\n",
    "    a = input()\n",
    "    print(a[0]+a[-1])"
   ]
  },
  {
   "cell_type": "code",
   "execution_count": 14,
   "metadata": {},
   "outputs": [
    {
     "name": "stdout",
     "output_type": "stream",
     "text": [
      "48\n"
     ]
    }
   ],
   "source": [
    "#11654\n",
    "\n",
    "a = input()\n",
    "\n",
    "print(ord(a))"
   ]
  },
  {
   "cell_type": "code",
   "execution_count": 5,
   "metadata": {},
   "outputs": [
    {
     "name": "stdout",
     "output_type": "stream",
     "text": [
      "15\n"
     ]
    }
   ],
   "source": [
    "#11720\n",
    "\n",
    "N = int(input())\n",
    "a = str(input())\n",
    "sum = 0\n",
    "\n",
    "for i in range(N):\n",
    "    sum = sum + int(a[i])\n",
    "print(sum)"
   ]
  },
  {
   "cell_type": "code",
   "execution_count": 14,
   "metadata": {},
   "outputs": [
    {
     "name": "stdout",
     "output_type": "stream",
     "text": [
      "132\n"
     ]
    }
   ],
   "source": [
    "#2908\n",
    "\n",
    "a, b = input().split()\n",
    "\n",
    "a_list = list(a)\n",
    "b_list = list(b)\n",
    "\n",
    "a_list.reverse()\n",
    "b_list.reverse()\n",
    "\n",
    "if a_list > b_list:\n",
    "    print(''.join(a_list))\n",
    "else:\n",
    "    print(''.join(b_list))"
   ]
  },
  {
   "cell_type": "code",
   "execution_count": null,
   "metadata": {},
   "outputs": [],
   "source": []
  }
 ],
 "metadata": {
  "kernelspec": {
   "display_name": "Python 3",
   "language": "python",
   "name": "python3"
  },
  "language_info": {
   "codemirror_mode": {
    "name": "ipython",
    "version": 3
   },
   "file_extension": ".py",
   "mimetype": "text/x-python",
   "name": "python",
   "nbconvert_exporter": "python",
   "pygments_lexer": "ipython3",
   "version": "3.11.4"
  },
  "orig_nbformat": 4
 },
 "nbformat": 4,
 "nbformat_minor": 2
}
